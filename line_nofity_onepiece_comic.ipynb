{
 "cells": [
  {
   "cell_type": "code",
   "execution_count": 1,
   "metadata": {},
   "outputs": [],
   "source": [
    "from selenium import webdriver\n",
    "from bs4 import BeautifulSoup\n",
    "import os\n",
    "from line_notify import LineNotify\n",
    "import requests\n",
    "import time"
   ]
  },
  {
   "cell_type": "code",
   "execution_count": 2,
   "metadata": {},
   "outputs": [],
   "source": [
    "token='自己的line token'\n",
    "notify = LineNotify(token)"
   ]
  },
  {
   "cell_type": "code",
   "execution_count": 3,
   "metadata": {},
   "outputs": [
    {
     "name": "stdout",
     "output_type": "stream",
     "text": [
      "http://www.acg456.com/HTML/OnePiece/980/\n"
     ]
    }
   ],
   "source": [
    "#海賊王網址、第x話\n",
    "ep='980'\n",
    "url='http://www.acg456.com/HTML/OnePiece/{}/'.format(ep)\n",
    "print(url)"
   ]
  },
  {
   "cell_type": "code",
   "execution_count": 4,
   "metadata": {},
   "outputs": [],
   "source": [
    "#創建資料夾\n",
    "directory='/Users/VicChen/Desktop/onepiece/{}'.format(ep)\n",
    "if not os.path.exists(directory):\n",
    "    os.makedirs(directory)"
   ]
  },
  {
   "cell_type": "code",
   "execution_count": 5,
   "metadata": {},
   "outputs": [],
   "source": [
    "browser = webdriver.Chrome(executable_path='./chromedriver')\n",
    "browser.get(url)"
   ]
  },
  {
   "cell_type": "code",
   "execution_count": 6,
   "metadata": {},
   "outputs": [
    {
     "data": {
      "text/plain": [
       "<html xmlns=\"http://www.w3.org/1999/xhtml\"><head>\n",
       "<meta content=\"text/html; charset=utf-8\" http-equiv=\"Content-Type\"/>\n",
       "<meta content=\"IE=EmulateIE7\" http-equiv=\"X-UA-Compatible\"/>\n",
       "<meta content=\"980话,海贼王/One Piece,海贼王/One Piece在线漫画\" name=\"keywords\"/>\n",
       "<meta content=\"海贼王/One Piece在线漫画服务,提供海贼王/One Piece漫画在线观看\" name=\"description\"/>\n",
       "<title>海贼王/One Piece-980话-海贼王/One Piece漫画_acg456在线漫画</title>\n",
       "<style type=\"text/css\">\n",
       "<!--\n",
       "#loading{z-index:2000;top:55%;left:49%;position:fixed;_position:absolute;_top:expression(documentElement.scrollTop+364+\"px\");padding:3px}\n",
       "html{-webkit-text-size-adjust:none;}\n",
       ".Reduction_top{height:37px;background-image: url(http://rs.acg456.com/web/manhua/images/TopMenu_bg.png);background-repeat: repeat-x;width:100%;text-align:center;position: fixed; top:0px; left: 0px; z-index: 1000;}\n",
       ".Reduction_left{width:500px;float:left;height:37px;line-height:37px;font-size:14px;text-align:left;}\n",
       ".Reduction_right{width:400px;float:right;height:37px;line-height:37px;text-align:right;font-size:14px;}\n",
       "a {color: #2F688C; text-decoration:none;}\n",
       "a:hover {color:#2F688C;text-decoration:underline;}\n",
       ".wrap {margin:0 auto;padding:0 2px 0 2px;width:980px;}\n",
       "body {font-size:12px;text-align:center;margin:0;color:#666666;font-family:helvetica,\"微软雅黑\",\"microsoft yahei\",verdana,lucida,arial,sans-serif,\"黑体\";background-image: url(about:blank); background-attachment: fixed;background-color: #f3f3f3;}\n",
       "a.redfont_input {padding: 0 14px 0 15px;font-size: 14px;color: #ffffff;background-color: #AF2F15;display:inline-block;*display:inline;*zoom:1;line-height:30px;*line-height:32px;*height:30px;*overflow:hidden;text-decoration:none;}\n",
       "a.redfont_input:hover {color: #ffffff;background-color: #333333;}\n",
       "a.page_fleet {padding: 0 10px;font-size: 14px;color: #666666;background-color:#ffffff;border: 1px solid #CCCCCC;display:inline-block;*display:inline;*zoom:1;line-height:28px;text-decoration:none;}\n",
       "a.page_fleet:hover {color: #ffffff;background-color: #333333;}\n",
       ".page_now {padding: 0 11px;font-size: 14px;color: #ffffff;background-color: #AF2F15;display:inline-block;*display:inline;*zoom:1;line-height:30px;margin-right:10px;}\n",
       ".AD_D2 {margin-bottom:20px;}\n",
       ".AD_D3 {margin:20px 0 10px 0;}\n",
       ".AD_D7 {width:160px;overflow:hidden;line-height: 20px;text-align:left;}\n",
       ".page_turning {font-size:14px;margin:20px 0;overflow:hidden;}\n",
       ".page_turning a{margin-right:10px;vertical-align:top;}\n",
       ".page_turning select{margin-right:10px;font-size:14px;}\n",
       ".tucao {width:958px;border: 1px solid #dfdfdf;background-color:#FFFFFF;padding:10px;text-align:left; margin:10px 0;}\n",
       ".tucao_button a{padding: 0 11px;color: #ffffff;background-color: #C1C7CC;display:inline-block;*display:inline;*zoom:1;line-height:30px;*line-height:32px;*height:30px;*overflow:hidden;margin:2px 2px 0 0;text-decoration:none;vertical-align:top;}\n",
       ".tucao_button a:hover {color: #ffffff;background-color: #333333;}\n",
       ".IDC_button a{padding: 0 11px;*padding: 0 10px;color: #ffffff;background-color: #9F9D9E;display:inline-block;*display:inline;*zoom:1;line-height:21px;*line-height:22px;*height:21px;*overflow:hidden;margin:8px 5px 0 0;text-decoration:none;vertical-align:top;}\n",
       ".IDC_button a:hover {color: #ffffff;background-color: #333333;}\n",
       ".IDC_button span {padding: 0 11px;*padding: 0 10px;color: #ffffff;background-color: #AF2F15;display:inline-block;*display:inline;*zoom:1;line-height:21px;margin:8px 5px 0 0;}\n",
       "a.tucao_heat1 { background-color:#AF2F15;}\n",
       "a.tucao_heat2 { background-color:#EA3060;}\n",
       "a.tucao_heat3 { background-color:#E56486;}\n",
       "a.tucao_heat4 { background-color:#E27D98;}\n",
       "a.tucao_heat5 { background-color:#D997A8;}\n",
       "a.tucao_heat6 { background-color:#9F9D9E;}\n",
       "a.tucao_heat7 { background-color:#C0BEBF;}\n",
       ".interaction_Focus {text-align:center;margin:20px 0;}\n",
       ".interaction_Focus a{padding:8px 15px;border-radius:4px;display:inline-block;background-color:#333;font-size:14px;color:#FFF;text-decoration:none;}\n",
       ".interaction_Focus a:hover{background-color:#000;}\n",
       ".tucao_more {display:inline-block;*display:inline;*zoom:1;line-height:30px;height:30px;*line-height:34px;*height:30px;*overflow:hidden;margin:2px 0 0 10px;}\n",
       ".sf_input {width: 400px;height:31px;border: 1px solid #dfdfdf;font-size:14px;margin-top:10px;line-height:31px;padding-left:8px;}\n",
       ".grayfont {font-size: 14px;color: #666666;background-color: #dfdfdf;height: 35px;border: none;width: 70px;vertical-align:top;margin-top:10px;*margin-top:11px;}\n",
       ".tips{position: fixed; top: 90%; left: 50%; z-index: 1000; margin-top: -35px; margin-left: -240px;height: 70px;text-align: center;width: 480px;background: none repeat scroll 0 0 rgba(0, 0, 0, 0.7) !important;;filter:Alpha(opacity=70);background:#000000;border-radius: 6px 6px 6px 6px;color: #ffffff;font: 300 30px/70px 微软雅黑,Tahoma;}\n",
       "-->\n",
       "</style>\n",
       "<script async=\"\" charset=\"utf-8\" src=\"https://c.cnzz.com/core.php?web_id=30062359&amp;t=q\" type=\"text/javascript\"></script><script async=\"\" charset=\"utf-8\" src=\"https://c.cnzz.com/core.php?web_id=30029254&amp;t=q\" type=\"text/javascript\"></script><script name=\"MTAH5\" sid=\"500624013\" src=\"//pingjs.qq.com/h5/stats.js?v2.0.4\"></script><script src=\"https://w.cnzz.com/c.php?id=30062359\"></script><script src=\"https://w.cnzz.com/c.php?id=30029254\"></script><script src=\"/js/jquery.min.js\" type=\"text/javascript\"></script>\n",
       "<script src=\"/js/v1/request-1.0.6.js\" type=\"text/javascript\"></script>\n",
       "<script src=\"/js/v1/chapter-1.0.08.js\" type=\"text/javascript\"></script>\n",
       "</head>\n",
       "<body>\n",
       "<div class=\"Reduction_top\">\n",
       "<div class=\"wrap\">\n",
       "<div class=\"Reduction_left\">您当前的位置：<a href=\"/\">在线漫画</a> &gt; <a href=\"/catalog/?tid=1\">热血</a> &gt; <a href=\"/HTML/OnePiece/\">海贼王/One Piece</a> &gt; 980话</div>\n",
       "<div class=\"Reduction_right\" id=\"UserInfo\">欢迎访问acg456，请<a href=\"http://passport.acg456.com/Login.html?ReturnUrl=http://www.acg456.com/HTML/OnePiece/980/\"> 登录</a> 或 <a href=\"http://passport.acg456.com/Register.html\">注册</a></div>\n",
       "</div>\n",
       "</div>\n",
       "<div class=\"wrap\" id=\"AD_j1\" style=\"padding-top: 38px;\"><span style=\"font-size:14px;font-weight:bold;display:block;height:40px;line-height:40px;\">海贼王/One Piece 980话 <span style=\"color:#BD0000;\">（第<font id=\"CurrentPage\">1</font>页/总<font id=\"TotalPage\">18</font>页）</span></span>\n",
       "<div class=\"page_turning\" style=\"text-align:right;color:#bd0000;\"><a class=\"redfont_input\" href=\"/mh/OnePiece/\">目录列表</a><a class=\"redfont_input\" href=\"javascript:PreVolume();\">上一回</a><a class=\"redfont_input\" href=\"javascript:PrePage();\">上一页</a>\n",
       "<select id=\"pageSel\" onchange=\"GoSelPage()\"><option value=\"1\">第1页</option><option value=\"2\">第2页</option><option value=\"3\">第3页</option><option value=\"4\">第4页</option><option value=\"5\">第5页</option><option value=\"6\">第6页</option><option value=\"7\">第7页</option><option value=\"8\">第8页</option><option value=\"9\">第9页</option><option value=\"10\">第10页</option><option value=\"11\">第11页</option><option value=\"12\">第12页</option><option value=\"13\">第13页</option><option value=\"14\">第14页</option><option value=\"15\">第15页</option><option value=\"16\">第16页</option><option value=\"17\">第17页</option></select>\n",
       "<a class=\"redfont_input\" href=\"javascript:NextPage();\">下一页</a><a class=\"redfont_input\" href=\"javascript:NextVolume();\">下一回</a>\n",
       "快捷键[A:下一页][Q:上一页]\n",
       "</div>\n",
       "</div>\n",
       "<table bgcolor=\"#D5D5D5\" border=\"0\" cellpadding=\"5\" cellspacing=\"1\" style=\"margin: 0px auto;\" width=\"10\">\n",
       "<tbody><tr>\n",
       "<td bgcolor=\"#FFFFFF\" valign=\"top\"><a href=\"javascript:NextPage();\"><img alt=\"快捷键：A下翻页，Q上翻页\" border=\"0\" id=\"curPic\" src=\"http://pic.acg456.com/Pic/OnlineComic1/OnePiece/980/001.png\"/></a>\n",
       "<script language=\"javascript\">\n",
       "        var tskReady = false;\n",
       "        var c = 2;\n",
       "        var fn = \"\";\n",
       "        var nv = \"980\";\n",
       "        var preChap = \"/HTML/OnePiece/979/\";\n",
       "        var nextChap = \"\";\n",
       "        var comicFolder = \"OnePiece\";\n",
       "        var pic1 = document.getElementById('curPic');\n",
       "    </script></td>\n",
       "</tr>\n",
       "</tbody></table>\n",
       "<div class=\"wrap\">\n",
       "<div class=\"page_turning\"><a class=\"redfont_input\" href=\"javascript:PreVolume();\">上一回</a><a class=\"redfont_input\" href=\"javascript:PrePage();\">上一页</a><span id=\"Pages\"><span class=\"page_now\">1</span><a class=\"page_fleet\" href=\"javascript:GoPage(2);\">2</a><a class=\"page_fleet\" href=\"javascript:GoPage(3);\">3</a><a class=\"page_fleet\" href=\"javascript:GoPage(4);\">4</a><a class=\"page_fleet\" href=\"javascript:GoPage(5);\">5</a><a class=\"page_fleet\" href=\"javascript:GoPage(6);\">6</a><a class=\"page_fleet\" href=\"javascript:GoPage(7);\">7</a><a class=\"page_fleet\" href=\"javascript:GoPage(8);\">8</a><a class=\"page_fleet\" href=\"javascript:GoPage(9);\">9</a><a class=\"page_fleet\" href=\"javascript:GoPage(10);\">10</a>……  <a class=\"page_fleet\" href=\"javascript:GoPage(16);\">16</a><a class=\"page_fleet\" href=\"javascript:GoPage(17);\">17</a></span><a class=\"redfont_input\" href=\"javascript:NextPage();\">下一页</a><a class=\"redfont_input\" href=\"javascript:NextVolume();\">下一回</a></div>\n",
       "<div class=\"tucao\"><div style=\"margin-bottom:10px;\">如果看到这句话，那就是还没人发表吐槽，大家都在等你呢：）</div>\n",
       "<input class=\"sf_input\" onfocus=\"tskReady = true;\" title=\"输入你的吐槽内容\" type=\"text\"/><input class=\"grayfont\" id=\"addTsk\" type=\"submit\" value=\"吐 槽\"/>\n",
       "</div>\n",
       "</div>\n",
       "<div class=\"tips\" id=\"Tips\" style=\"display:none\"></div>\n",
       "<div id=\"TJ2\" style=\"position: absolute; width: 0; height: 0; overflow: hidden;\">\n",
       "<script src=\"http://op.acg456.com/ajax/Common.ashx?op=getStat\" type=\"text/javascript\"></script>\n",
       "</div>\n",
       "<div class=\"loading\" id=\"loading\" style=\"display:none\">\n",
       "<img src=\"http://rs.acg456.com/web/manhua/images/loading.gif\"/>\n",
       "</div>\n",
       "</body></html>"
      ]
     },
     "execution_count": 6,
     "metadata": {},
     "output_type": "execute_result"
    }
   ],
   "source": [
    "soup=BeautifulSoup(browser.page_source,'lxml')\n",
    "soup"
   ]
  },
  {
   "cell_type": "code",
   "execution_count": 7,
   "metadata": {},
   "outputs": [
    {
     "data": {
      "text/plain": [
       "18"
      ]
     },
     "execution_count": 7,
     "metadata": {},
     "output_type": "execute_result"
    }
   ],
   "source": [
    "#總頁數\n",
    "total_page=int(soup.find(id='TotalPage').text)\n",
    "total_page"
   ]
  },
  {
   "cell_type": "code",
   "execution_count": 8,
   "metadata": {},
   "outputs": [
    {
     "name": "stdout",
     "output_type": "stream",
     "text": [
      "http://pic.acg456.com/Pic/OnlineComic1/OnePiece/980/001.png\n"
     ]
    }
   ],
   "source": [
    "#圖片網址\n",
    "print(soup.find(id='curPic')['src'])"
   ]
  },
  {
   "cell_type": "code",
   "execution_count": 9,
   "metadata": {},
   "outputs": [
    {
     "name": "stdout",
     "output_type": "stream",
     "text": [
      "http://pic.acg456.com/Pic/OnlineComic1/OnePiece/980/001.png\n",
      "http://pic.acg456.com/Pic/OnlineComic1/OnePiece/980/002.png\n",
      "http://pic.acg456.com/Pic/OnlineComic1/OnePiece/980/003.png\n",
      "http://pic.acg456.com/Pic/OnlineComic1/OnePiece/980/004.png\n",
      "http://pic.acg456.com/Pic/OnlineComic1/OnePiece/980/005.png\n",
      "http://pic.acg456.com/Pic/OnlineComic1/OnePiece/980/006.png\n",
      "http://pic.acg456.com/Pic/OnlineComic1/OnePiece/980/007.png\n",
      "http://pic.acg456.com/Pic/OnlineComic1/OnePiece/980/008.png\n",
      "http://pic.acg456.com/Pic/OnlineComic1/OnePiece/980/009.png\n",
      "http://pic.acg456.com/Pic/OnlineComic1/OnePiece/980/010.png\n",
      "http://pic.acg456.com/Pic/OnlineComic1/OnePiece/980/011.png\n",
      "http://pic.acg456.com/Pic/OnlineComic1/OnePiece/980/012.png\n",
      "http://pic.acg456.com/Pic/OnlineComic1/OnePiece/980/013.png\n",
      "http://pic.acg456.com/Pic/OnlineComic1/OnePiece/980/014.png\n",
      "http://pic.acg456.com/Pic/OnlineComic1/OnePiece/980/015.png\n",
      "http://pic.acg456.com/Pic/OnlineComic1/OnePiece/980/016.png\n",
      "http://pic.acg456.com/Pic/OnlineComic1/OnePiece/980/017.png\n"
     ]
    }
   ],
   "source": [
    "for i in list(range(total_page-1)):\n",
    "    #print(i+1)\n",
    "    page_num='0'*(3-len(str(i+1)))+str(i+1)\n",
    "    page_url='http://pic.acg456.com/Pic/OnlineComic1/OnePiece/{ep}/{page_num}.png'.format(ep=ep,page_num=page_num)\n",
    "    \n",
    "    print(page_url)\n",
    "    \n",
    "    #下載圖片\n",
    "    res=requests.get(page_url)\n",
    "    with open(directory+'/{ep}_{i}.png'.format(ep=ep,i=str(i+1)),'wb') as f:\n",
    "        f.write(res.content)\n",
    "    \n",
    "    time.sleep(1)\n",
    "    \n",
    "    #line notify發圖片漫畫\n",
    "    notify.send('onepiece_{ep}_{i}'.format(ep=ep,i=str(i+1)), \n",
    "            image_path=directory+'/{ep}_{i}.png'.format(ep=ep,i=str(i+1))\n",
    "           )\n",
    "    "
   ]
  },
  {
   "cell_type": "code",
   "execution_count": 10,
   "metadata": {},
   "outputs": [],
   "source": [
    "browser.close()"
   ]
  }
 ],
 "metadata": {
  "kernelspec": {
   "display_name": "Python 3",
   "language": "python",
   "name": "python3"
  },
  "language_info": {
   "codemirror_mode": {
    "name": "ipython",
    "version": 3
   },
   "file_extension": ".py",
   "mimetype": "text/x-python",
   "name": "python",
   "nbconvert_exporter": "python",
   "pygments_lexer": "ipython3",
   "version": "3.7.4"
  }
 },
 "nbformat": 4,
 "nbformat_minor": 2
}
